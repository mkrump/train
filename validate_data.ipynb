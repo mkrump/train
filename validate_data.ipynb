{
 "cells": [
  {
   "cell_type": "code",
   "execution_count": 1,
   "metadata": {},
   "outputs": [],
   "source": [
    "import pandas as pd\n",
    "import requests"
   ]
  },
  {
   "cell_type": "code",
   "execution_count": 2,
   "metadata": {},
   "outputs": [
    {
     "name": "stderr",
     "output_type": "stream",
     "text": [
      "/Users/mathewkrump/.pyenv/versions/3.8.0/envs/train/lib/python3.8/site-packages/urllib3/connectionpool.py:997: InsecureRequestWarning: Unverified HTTPS request is being made to host 'www.fra.dot.gov'. Adding certificate verification is strongly advised. See: https://urllib3.readthedocs.io/en/latest/advanced-usage.html#ssl-warnings\n",
      "  warnings.warn(\n"
     ]
    }
   ],
   "source": [
    "r = requests.get('https://www.fra.dot.gov/blockedcrossings/api/incidents', verify=False)"
   ]
  },
  {
   "cell_type": "code",
   "execution_count": 3,
   "metadata": {},
   "outputs": [],
   "source": [
    "data = pd.DataFrame(r.json())"
   ]
  },
  {
   "cell_type": "code",
   "execution_count": 4,
   "metadata": {},
   "outputs": [
    {
     "data": {
      "text/plain": [
       "<bound method NDFrame.head of      crossingID              reason          city state               street  \\\n",
       "0       174964H  A stationary train      WINFIELD    IL        WINFIELD ROAD   \n",
       "1       906295A  A stationary train  FORT COLLINS    CO       Lincoln Avenue   \n",
       "2       009352L  A stationary train          None    KS     E Lincoln Street   \n",
       "3       009352L  A stationary train          None    KS     E Lincoln Street   \n",
       "4       232191D  A stationary train       ROMULUS    MI            WICK ROAD   \n",
       "...         ...                 ...           ...   ...                  ...   \n",
       "1866    258115K  A stationary train     WOODHAVEN    MI             ALLEN RD   \n",
       "1867    258176B  A stationary train     FLAT ROCK    MI          VREELAND RD   \n",
       "1868    876006L  A stationary train    DES MOINES    IA       HUBBELL AVENUE   \n",
       "1869    140507F  A stationary train  GAITHERSBURG    MD  SOUTH SUMMIT AVENUE   \n",
       "1870    938325D  A stationary train    WASHINGTON    DC   PEDESTRIAN STATION   \n",
       "\n",
       "     railroad             dateTime       duration                  created  \n",
       "0          UP  2020-03-10T16:30:00  16-30 minutes  2020-03-10T12:46:07.697  \n",
       "1          UP  2020-03-10T16:00:00  31-60 minutes  2020-03-10T12:45:49.383  \n",
       "2          KO  2020-03-10T16:21:00  31-60 minutes   2020-03-10T12:43:25.86  \n",
       "3          KO  2020-03-10T16:28:00  31-60 minutes  2020-03-10T12:29:13.563  \n",
       "4         CSX  2020-03-10T16:00:00  16-30 minutes   2020-03-10T12:06:07.45  \n",
       "...       ...                  ...            ...                      ...  \n",
       "1866      GTW  2019-12-20T22:23:27  31-60 minutes  2019-12-20T17:23:33.357  \n",
       "1867      GTW  2019-12-20T22:22:53  16-30 minutes  2019-12-20T17:23:08.787  \n",
       "1868       UP  2019-12-20T19:05:00   0-15 minutes  2019-12-20T15:30:17.723  \n",
       "1869      CSX  2019-12-20T11:30:00   0-15 minutes   2019-12-20T12:25:13.83  \n",
       "1870      CSX  2019-12-20T17:00:00  31-60 minutes  2019-12-20T12:10:02.227  \n",
       "\n",
       "[1871 rows x 9 columns]>"
      ]
     },
     "execution_count": 4,
     "metadata": {},
     "output_type": "execute_result"
    }
   ],
   "source": [
    "data.head"
   ]
  },
  {
   "cell_type": "code",
   "execution_count": 5,
   "metadata": {},
   "outputs": [
    {
     "data": {
      "text/html": [
       "<div>\n",
       "<style scoped>\n",
       "    .dataframe tbody tr th:only-of-type {\n",
       "        vertical-align: middle;\n",
       "    }\n",
       "\n",
       "    .dataframe tbody tr th {\n",
       "        vertical-align: top;\n",
       "    }\n",
       "\n",
       "    .dataframe thead th {\n",
       "        text-align: right;\n",
       "    }\n",
       "</style>\n",
       "<table border=\"1\" class=\"dataframe\">\n",
       "  <thead>\n",
       "    <tr style=\"text-align: right;\">\n",
       "      <th></th>\n",
       "      <th>crossingID</th>\n",
       "      <th>reason</th>\n",
       "      <th>city</th>\n",
       "      <th>state</th>\n",
       "      <th>street</th>\n",
       "      <th>railroad</th>\n",
       "      <th>dateTime</th>\n",
       "      <th>duration</th>\n",
       "      <th>created</th>\n",
       "    </tr>\n",
       "  </thead>\n",
       "  <tbody>\n",
       "    <tr>\n",
       "      <th>count</th>\n",
       "      <td>1871</td>\n",
       "      <td>1871</td>\n",
       "      <td>1811</td>\n",
       "      <td>1871</td>\n",
       "      <td>1871</td>\n",
       "      <td>1871</td>\n",
       "      <td>1871</td>\n",
       "      <td>1871</td>\n",
       "      <td>1871</td>\n",
       "    </tr>\n",
       "    <tr>\n",
       "      <th>unique</th>\n",
       "      <td>755</td>\n",
       "      <td>3</td>\n",
       "      <td>346</td>\n",
       "      <td>41</td>\n",
       "      <td>684</td>\n",
       "      <td>59</td>\n",
       "      <td>1600</td>\n",
       "      <td>8</td>\n",
       "      <td>1871</td>\n",
       "    </tr>\n",
       "    <tr>\n",
       "      <th>top</th>\n",
       "      <td>083068S</td>\n",
       "      <td>A stationary train</td>\n",
       "      <td>FORT COLLINS</td>\n",
       "      <td>IL</td>\n",
       "      <td>NORTH RD</td>\n",
       "      <td>BNSF</td>\n",
       "      <td>2020-01-20T18:00:00</td>\n",
       "      <td>16-30 minutes</td>\n",
       "      <td>2020-01-22T17:17:50.37</td>\n",
       "    </tr>\n",
       "    <tr>\n",
       "      <th>freq</th>\n",
       "      <td>55</td>\n",
       "      <td>1274</td>\n",
       "      <td>371</td>\n",
       "      <td>659</td>\n",
       "      <td>55</td>\n",
       "      <td>502</td>\n",
       "      <td>11</td>\n",
       "      <td>723</td>\n",
       "      <td>1</td>\n",
       "    </tr>\n",
       "  </tbody>\n",
       "</table>\n",
       "</div>"
      ],
      "text/plain": [
       "       crossingID              reason          city state    street railroad  \\\n",
       "count        1871                1871          1811  1871      1871     1871   \n",
       "unique        755                   3           346    41       684       59   \n",
       "top       083068S  A stationary train  FORT COLLINS    IL  NORTH RD     BNSF   \n",
       "freq           55                1274           371   659        55      502   \n",
       "\n",
       "                   dateTime       duration                 created  \n",
       "count                  1871           1871                    1871  \n",
       "unique                 1600              8                    1871  \n",
       "top     2020-01-20T18:00:00  16-30 minutes  2020-01-22T17:17:50.37  \n",
       "freq                     11            723                       1  "
      ]
     },
     "execution_count": 5,
     "metadata": {},
     "output_type": "execute_result"
    }
   ],
   "source": [
    "data.describe()"
   ]
  },
  {
   "cell_type": "code",
   "execution_count": 6,
   "metadata": {},
   "outputs": [
    {
     "data": {
      "text/plain": [
       "2020-03-03    121\n",
       "2020-01-20    108\n",
       "2020-03-06     86\n",
       "2020-01-21     81\n",
       "2020-03-07     79\n",
       "             ... \n",
       "2020-02-15      3\n",
       "2020-01-04      2\n",
       "2020-01-12      2\n",
       "2019-12-17      1\n",
       "2019-12-15      1\n",
       "Freq: D, Name: dateTime, Length: 86, dtype: int64"
      ]
     },
     "execution_count": 6,
     "metadata": {},
     "output_type": "execute_result"
    }
   ],
   "source": [
    "(pd.to_datetime(data.dateTime)).dt.to_period('D').value_counts()"
   ]
  },
  {
   "cell_type": "code",
   "execution_count": 7,
   "metadata": {},
   "outputs": [],
   "source": [
    "fc = data[data.city == \"FORT COLLINS\"]"
   ]
  },
  {
   "cell_type": "code",
   "execution_count": 8,
   "metadata": {},
   "outputs": [
    {
     "data": {
      "text/html": [
       "<div>\n",
       "<style scoped>\n",
       "    .dataframe tbody tr th:only-of-type {\n",
       "        vertical-align: middle;\n",
       "    }\n",
       "\n",
       "    .dataframe tbody tr th {\n",
       "        vertical-align: top;\n",
       "    }\n",
       "\n",
       "    .dataframe thead th {\n",
       "        text-align: right;\n",
       "    }\n",
       "</style>\n",
       "<table border=\"1\" class=\"dataframe\">\n",
       "  <thead>\n",
       "    <tr style=\"text-align: right;\">\n",
       "      <th></th>\n",
       "      <th>crossingID</th>\n",
       "      <th>reason</th>\n",
       "      <th>city</th>\n",
       "      <th>state</th>\n",
       "      <th>street</th>\n",
       "      <th>railroad</th>\n",
       "      <th>dateTime</th>\n",
       "      <th>duration</th>\n",
       "      <th>created</th>\n",
       "    </tr>\n",
       "  </thead>\n",
       "  <tbody>\n",
       "    <tr>\n",
       "      <th>count</th>\n",
       "      <td>371</td>\n",
       "      <td>371</td>\n",
       "      <td>371</td>\n",
       "      <td>371</td>\n",
       "      <td>371</td>\n",
       "      <td>371</td>\n",
       "      <td>371</td>\n",
       "      <td>371</td>\n",
       "      <td>371</td>\n",
       "    </tr>\n",
       "    <tr>\n",
       "      <th>unique</th>\n",
       "      <td>42</td>\n",
       "      <td>3</td>\n",
       "      <td>1</td>\n",
       "      <td>1</td>\n",
       "      <td>41</td>\n",
       "      <td>3</td>\n",
       "      <td>304</td>\n",
       "      <td>5</td>\n",
       "      <td>371</td>\n",
       "    </tr>\n",
       "    <tr>\n",
       "      <th>top</th>\n",
       "      <td>244626E</td>\n",
       "      <td>A moving train</td>\n",
       "      <td>FORT COLLINS</td>\n",
       "      <td>CO</td>\n",
       "      <td>PROSPECT ST</td>\n",
       "      <td>BNSF</td>\n",
       "      <td>2020-03-03T14:15:00</td>\n",
       "      <td>16-30 minutes</td>\n",
       "      <td>2020-03-05T21:06:36.7</td>\n",
       "    </tr>\n",
       "    <tr>\n",
       "      <th>freq</th>\n",
       "      <td>47</td>\n",
       "      <td>289</td>\n",
       "      <td>371</td>\n",
       "      <td>371</td>\n",
       "      <td>47</td>\n",
       "      <td>340</td>\n",
       "      <td>9</td>\n",
       "      <td>203</td>\n",
       "      <td>1</td>\n",
       "    </tr>\n",
       "  </tbody>\n",
       "</table>\n",
       "</div>"
      ],
      "text/plain": [
       "       crossingID          reason          city state       street railroad  \\\n",
       "count         371             371           371   371          371      371   \n",
       "unique         42               3             1     1           41        3   \n",
       "top       244626E  A moving train  FORT COLLINS    CO  PROSPECT ST     BNSF   \n",
       "freq           47             289           371   371           47      340   \n",
       "\n",
       "                   dateTime       duration                created  \n",
       "count                   371            371                    371  \n",
       "unique                  304              5                    371  \n",
       "top     2020-03-03T14:15:00  16-30 minutes  2020-03-05T21:06:36.7  \n",
       "freq                      9            203                      1  "
      ]
     },
     "execution_count": 8,
     "metadata": {},
     "output_type": "execute_result"
    }
   ],
   "source": [
    "fc.describe()"
   ]
  },
  {
   "cell_type": "code",
   "execution_count": 9,
   "metadata": {},
   "outputs": [
    {
     "data": {
      "text/plain": [
       "2020-03-03    68\n",
       "2020-03-07    57\n",
       "2020-02-26    34\n",
       "2020-03-06    31\n",
       "2020-03-04    29\n",
       "2020-03-02    24\n",
       "2020-02-25    20\n",
       "2020-02-27    19\n",
       "2020-03-05    14\n",
       "2020-03-09    14\n",
       "2020-02-22    12\n",
       "2020-03-08     8\n",
       "2020-02-29     7\n",
       "2020-02-24     6\n",
       "2020-03-10     5\n",
       "2020-02-23     4\n",
       "2020-02-28     3\n",
       "2020-02-21     3\n",
       "2020-02-01     3\n",
       "2020-02-19     2\n",
       "2020-01-30     2\n",
       "2020-03-01     1\n",
       "2020-02-20     1\n",
       "2020-02-06     1\n",
       "2020-02-05     1\n",
       "2020-01-31     1\n",
       "2020-01-21     1\n",
       "Freq: D, Name: dateTime, dtype: int64"
      ]
     },
     "execution_count": 9,
     "metadata": {},
     "output_type": "execute_result"
    }
   ],
   "source": [
    "(pd.to_datetime(fc.dateTime)).dt.to_period('D').value_counts()"
   ]
  }
 ],
 "metadata": {
  "kernelspec": {
   "display_name": "Python 3",
   "language": "python",
   "name": "python3"
  },
  "language_info": {
   "codemirror_mode": {
    "name": "ipython",
    "version": 3
   },
   "file_extension": ".py",
   "mimetype": "text/x-python",
   "name": "python",
   "nbconvert_exporter": "python",
   "pygments_lexer": "ipython3",
   "version": "3.8.0"
  }
 },
 "nbformat": 4,
 "nbformat_minor": 4
}
